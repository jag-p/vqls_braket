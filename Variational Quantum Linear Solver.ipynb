{
 "cells": [
  {
   "cell_type": "markdown",
   "id": "9fa76b1e-7392-496a-80cf-7673b9e7da4f",
   "metadata": {},
   "source": [
    "# How to solve systems of linear equations on a near-term quantum computer\n",
    "\n",
    "In this notebook, you will be using [PennyLane](https://pennylane.ai/) to implement and run the Variational Quantum Linear Solver (VQLS) algorithm with the goal to solve an $8\\times8$ system of linear equations. Later, you will run your PennyLane code on [Amazon Braket](https://aws.amazon.com/braket/) in the cloud to solve a larger system of size $1024\\times1024$.\n",
    "\n",
    "## References\n",
    "\n",
    "* A detailed description of the algorithm can be found in the [original publication of the Variational Quantum Linear Solver](https://arxiv.org/abs/1909.05820)\n",
    "* This notebook closely follows the reference implementation in PennyLane published in [this tutorial of the Variational Quantum Linear Solver](https://pennylane.ai/qml/demos/tutorial_vqls/)\n",
    "* Check out the Amazon Braket developer guide to learn how you can [use PennyLane with Amazon Braket](https://docs.aws.amazon.com/braket/latest/developerguide/hybrid.html)\n",
    "\n",
    "\n",
    "## Background\n",
    "\n",
    "In many applications in science and technology, we are interested in finding a solution for a [system of $N$ linear equations](https://en.wikipedia.org/wiki/System_of_linear_equations):\n",
    "\n",
    "$$\n",
    "\\sum\\limits_{j=1}^{N} a_{1j} x_j = b_1 \\\\\n",
    "\\vdots \\\\\n",
    "\\sum\\limits_{j=1}^{N} a_{Nj} x_j = b_N\n",
    "$$\n",
    "\n",
    "where $x_1,\\cdots,x_N$ are the unknown variables to be solved for and $a_{ij}$ and $b_1,\\cdots,b_N$ are known coefficients. If we arrange $a_{ij}$ in an $N\\times N$ matrix $A$, $x_i$ and $b_i$ into column vectors ${\\bf x}$ and ${\\bf b}$ then we can rewrite the linear system above as $$A{\\bf x}={\\bf b}.$$\n",
    "\n",
    "Systems of this type are frequently encountered when solving differential equations, performing linear regression and curve-fitting, in various combinatorial applications, and in machine learning.\n",
    "\n",
    "## Quantum vs classical\n",
    "\n",
    "Since systems of linear equations are encountered in physics, chemistry, differential equations, and other areas many classical techniques have been developed to solve them. One of the oldest is [Cramer's rule](https://en.wikipedia.org/wiki/Cramer%27s_rule), which is inefficient because it requires computing many [matrix determinants](https://en.wikipedia.org/wiki/Determinant). Another is [Gaussian elimination](https://en.wikipedia.org/wiki/Gaussian_elimination), which only needs one determinant to be computed, and has a complexity of $O(N^3)$ where $N$ is the number of equations. Beyond these techniques there are many \"numerical\" (e.g. computational) methods for these problems. There is a whole field, [linear programming](https://en.wikipedia.org/wiki/Linear_programming) devoted to solving them because of their many applications in transportation planning, logistics, and other optimization problems. The classical complexity of solving a system of linear equations can depend on precise details of $A$, the matrix encoding the problem, but in the worst case techniques like Gaussian elimination with pivoting are used, which are $O(N^3)$. Alternatively, an initial solution is proposed and then iteratively improved upon using the diagonal and off-diagonal components -- this is the [Jacobi method](https://en.wikipedia.org/wiki/Jacobi_method) but cannot be used for arbitrary $A$. For large $N$ this is unfavorable and so a quantum algorithm with better scaling would be attractive for such tasks.\n",
    "\n",
    "## Example problem\n",
    "\n",
    "Let us start with a concrete example and look at the following system of $8$ linear equations:\n",
    "\n",
    "$$\n",
    "\\begin{pmatrix}\n",
    "1   & 0   & 0 & 0 & 0.4 & 0   & 0 & 0 \\\\\n",
    "0   & 1   & 0 & 0 & 0   & 0.4 & 0 & 0 \\\\\n",
    "0   & 0   & 1 & 0 & 0   & 0   & 0 & 0 \\\\\n",
    "0   & 0   & 0 & 1 & 0   & 0   & 0 & 0 \\\\\n",
    "0.4 & 0   & 0 & 0 & 1   & 0   & 0 & 0 \\\\ \n",
    "0   & 0.4 & 0 & 0 & 0   & 1   & 0 & 0 \\\\\n",
    "0   & 0   & 0 & 0 & 0   & 0   & 1 & 0 \\\\\n",
    "0   & 0   & 0 & 0 & 0   & 0   & 0 & 1\n",
    "\\end{pmatrix}\n",
    "\\begin{pmatrix}\n",
    "x_1 \\\\\n",
    "x_2 \\\\\n",
    "x_3 \\\\\n",
    "x_4 \\\\\n",
    "x_5 \\\\ \n",
    "x_6 \\\\\n",
    "x_7 \\\\\n",
    "x_8   \n",
    "\\end{pmatrix} = \\frac{1}{2\\sqrt{2}}\n",
    "\\begin{pmatrix}\n",
    "1 \\\\\n",
    "1 \\\\\n",
    "1 \\\\\n",
    "1 \\\\\n",
    "1 \\\\ \n",
    "1 \\\\\n",
    "1 \\\\\n",
    "1   \n",
    "\\end{pmatrix}\n",
    "$$"
   ]
  },
  {
   "cell_type": "markdown",
   "id": "1c3cc62f-acd6-4e4c-a6ed-0a7e8f60701c",
   "metadata": {
    "tags": []
   },
   "source": [
    "## Classical solutions\n",
    "\n",
    "To solve the problem classically, we can use the explicit matrix representation in terms of numerical [NumPy](https://numpy.org/devdocs/index.html) arrays:"
   ]
  },
  {
   "cell_type": "code",
   "execution_count": null,
   "id": "10ff4355-af65-47c1-94c0-99a4f7dc3e77",
   "metadata": {
    "tags": []
   },
   "outputs": [],
   "source": [
    "from pennylane import numpy as np\n",
    "\n",
    "A = np.matrix([\n",
    "    [1, 0, 0, 0, 0.4, 0, 0, 0],\n",
    "    [0, 1, 0, 0, 0, 0.4, 0, 0],\n",
    "    [0, 0, 1, 0, 0, 0, 0, 0],\n",
    "    [0, 0, 0, 1, 0, 0, 0, 0],\n",
    "    [0.4, 0, 0, 0, 1, 0, 0, 0],\n",
    "    [0, 0.4, 0, 0, 0, 1, 0, 0],\n",
    "    [0, 0, 0, 0, 0, 0, 1, 0],\n",
    "    [0, 0, 0, 0, 0, 0, 0, 1],\n",
    "])\n",
    "print(f\"A = {A}\\n\")\n",
    "\n",
    "b = (0.5/np.sqrt(2))*np.matrix(np.ones([8, 1]))\n",
    "print(f\"b = {b}\")"
   ]
  },
  {
   "cell_type": "markdown",
   "id": "0e0f1d9f-754b-4a32-9d42-750b94d5ee72",
   "metadata": {},
   "source": [
    "A convenient approach if the matrix $A$ is [invertible](https://en.wikipedia.org/wiki/Invertible_matrix) is to obtain an exact solution from its [inverse](https://numpy.org/doc/stable/reference/generated/numpy.linalg.inv.html) $A^{-1}$ with ${\\bf x} = A^{-1}{\\bf b}$:"
   ]
  },
  {
   "cell_type": "code",
   "execution_count": null,
   "id": "5e77deb4-819b-4014-ad24-41e9dc409782",
   "metadata": {
    "tags": []
   },
   "outputs": [],
   "source": [
    "A_inv = np.matrix(np.linalg.inv(A))\n",
    "x_inv = np.dot(A_inv, b)\n",
    "print(x_inv)"
   ]
  },
  {
   "cell_type": "markdown",
   "id": "d6a88bea-01b2-4501-9850-cd635f7086d3",
   "metadata": {},
   "source": [
    "Alternatively, we can find approximate solutions, for example using the approach of [least squares](https://en.wikipedia.org/wiki/Linear_least_squares) to find ${\\bf x}$ by minimizing the norm $|\\!|A{\\bf x}-{\\bf b}{|\\!|}^{2} = {\\bf x}^{T}A^{T}A{\\bf x} - {\\bf x}^{T}A^{T}{\\bf b} - {\\bf b}^{T}A{\\bf x} + {\\bf b}^{T}{\\bf b} $"
   ]
  },
  {
   "cell_type": "code",
   "execution_count": null,
   "id": "0216fffb-b71c-415b-bc06-b5aedf34b59a",
   "metadata": {
    "tags": []
   },
   "outputs": [],
   "source": [
    "x_ls = np.linalg.lstsq(A, b, rcond=None)[0]\n",
    "print(x_ls)"
   ]
  },
  {
   "cell_type": "markdown",
   "id": "f5e1bce9",
   "metadata": {
    "jp-MarkdownHeadingCollapsed": true,
    "tags": []
   },
   "source": [
    "## Brief (re-)introduction to quantum computing fundamentals\n",
    "\n",
    "Expand the cell below if you want a refresher of what qubits and gates are and how they can be represented."
   ]
  },
  {
   "cell_type": "markdown",
   "id": "5bec6879-4e6c-4cb8-aaac-47e2947e56e2",
   "metadata": {
    "tags": []
   },
   "source": [
    "### Qubits and qubit states\n",
    "\n",
    "A **qubit** (or quantum bit) is a basic unit of information used in quantum computers, equivalently to the classical bit in classical computers. It is a two-level quantum-mechanical system which can be represented as a 2-dimensional complex vector space. With the orthonormal basis states (or basis vectors) \n",
    "\n",
    "$$|0\\rangle = \\begin{pmatrix} 1 \\\\ 0 \\end{pmatrix}, \\; |1\\rangle = \\begin{pmatrix} 0 \\\\ 1 \\end{pmatrix},$$ \n",
    "\n",
    "we can write the state of a qubit at a given time as a 2-dimensional complex vector, the so-called **state vector** \n",
    "\n",
    "$$|\\psi\\rangle = \\alpha |0\\rangle + \\beta |1\\rangle,$$ \n",
    "\n",
    "representing a superposition or linear combination of the basis states with amplitudes $\\alpha$ and $\\beta$ being complex numbers.\n",
    "\n",
    "<div class=\"alert alert-block alert-success\"> \n",
    "    <b>Note:</b> Throughout this notebook we use the <a href=\"https://en.wikipedia.org/wiki/Bra%E2%80%93ket_notation\">Dirac notation</a> (or Bra-ket notation) which has been introduced to write the linear algebra expressions and operations of quantum mechanics in a compact way.\n",
    "</div>\n",
    "\n",
    "When we perform a **measurement** of the qubit in the standard or computational basis $\\{|0\\rangle,|1\\rangle\\}$ we retrieve a bit representation of the basis states according to the [Born rule](https://en.wikipedia.org/wiki/Born_rule): the probability of measuring the system in state $|0\\rangle$ (corresponding to the bit \"0\") is $|\\alpha|^2$ and the probability of $|1\\rangle$ (corresponding to \"1\") is $|\\beta|^2$ with $$|\\alpha|^2 + |\\beta|^2 = 1.$$\n",
    "\n",
    "The possible states of a single qubit can be visualized using the [Bloch sphere](https://en.wikipedia.org/wiki/Bloch_sphere), a unit 2-sphere with the \"north pole\" and \"south pole\" corresponding to $|0\\rangle$ and $|1\\rangle$, respectively, and the amplitudes $\\alpha$ and $\\beta$ transformed to spherical coordinates with \n",
    "\n",
    "$$\\alpha = \\cos\\left(\\frac{\\theta}{2}\\right), \\; \\beta = e^{i\\phi}\\sin\\left(\\frac{\\theta}{2}\\right).$$ \n",
    "\n",
    "Any qubit state $|\\psi\\rangle$ can be represented as a point on the surface of the Bloch sphere.\n",
    "\n",
    "<div align=\"center\">\n",
    "    <figure>\n",
    "        <img src=\"images/Bloch_sphere.svg\" width=\"350\"/>\n",
    "        <figcaption>Wikimedia Commons, <a href=\"https://commons.wikimedia.org/wiki/File:Bloch_sphere.svg\">File:Bloch_sphere.svg</a></figcaption>\n",
    "    </figure>\n",
    "</div>\n",
    "\n",
    "In quantum computing, we typically look at states of **multiple qubits** (also called a [quantum register](https://en.wikipedia.org/wiki/Quantum_register)). For example, the state vector for a two-qubit system is represented by the linear combination \n",
    "\n",
    "$$|\\psi\\rangle=\\alpha|00\\rangle+\\beta|01\\rangle+\\gamma|10\\rangle+\\delta|11\\rangle$$ \n",
    "\n",
    "with the basis states \n",
    "\n",
    "$$|00\\rangle=|0\\rangle_{1}\\otimes|0\\rangle_{2}=\\begin{pmatrix}1\\\\0\\\\0\\\\0\\end{pmatrix}, \\; |01\\rangle=|0\\rangle_{1}\\otimes|1\\rangle_{2}=\\begin{pmatrix}0\\\\1\\\\0\\\\0\\end{pmatrix}, \\; |10\\rangle=|1\\rangle_{1}\\otimes|0\\rangle_{2}=\\begin{pmatrix}0\\\\0\\\\1\\\\0\\end{pmatrix}, \\; |11\\rangle=|1\\rangle_{1}\\otimes|1\\rangle_{2}=\\begin{pmatrix}0\\\\0\\\\0\\\\1\\end{pmatrix},$$ \n",
    "\n",
    "where $\\otimes$ denotes the [Kronecker product](https://en.wikipedia.org/wiki/Kronecker_product) (also can be viewed as a vectorization of the [outer product](https://en.wikipedia.org/wiki/Outer_product#Connection_with_the_Kronecker_product)) of the single-qubit basis states.\n",
    "\n",
    "In general, $n$ qubits are represented by a $2^n$-dimensional state vector \n",
    "\n",
    "$$|\\psi\\rangle =  x_0 |0\\rangle_{1} \\otimes \\cdots \\otimes |0\\rangle_{n} + x_1 |0\\rangle_{1} \\otimes \\cdots |0\\rangle_{n-1} \\otimes |1\\rangle_{n} + \\cdots + x_{2^{n}-1} |1\\rangle_{1} \\otimes \\cdots \\otimes |1\\rangle_{n}.$$   \n",
    "\n",
    "### Quantum operations\n",
    "A **quantum gate** is a basic logic operation which evolves a qubit state. Quantum gates can be represented as unitary matrices. \n",
    "\n",
    "<div class=\"alert alert-block alert-success\"> \n",
    "    <b>Reminder:</b> A complex square matrix $U$ is <b>unitary</b> if its inverse $U^{-1}$ is equal to its conjugate transpose $U^\\dagger$, that is, if $U^\\dagger U = U U^\\dagger = \\mathbb{I}$.\n",
    "</div>\n",
    "\n",
    "Let's look at some examples which may be helpful for the remainder of this workshop:\n",
    "\n",
    "#### Single-qubit gates\n",
    "\n",
    "The **identity gate** $\\mathbb{I}=\\begin{pmatrix}1 & 0 \\\\ 0 & 1\\end{pmatrix}$ does not modify the state of a qubit $$I|\\psi\\rangle=|\\psi\\rangle$$\n",
    "\n",
    "where $I|\\psi\\rangle$ denotes the the [inner product](https://en.wikipedia.org/wiki/Bra%E2%80%93ket_notation#Inner_product_and_bra%E2%80%93ket_identification_on_Hilbert_space) of $I$ and $|\\psi\\rangle$.\n",
    "\n",
    "The **[Pauli](https://en.wikipedia.org/wiki/Pauli_matrices) gates** \n",
    "\n",
    "$$X = \\begin{pmatrix} 0 & 1 \\\\ 1 & 0 \\end{pmatrix}, \\; Y = \\begin{pmatrix} 0 & -i \\\\ i & 0 \\end{pmatrix}, \\;  Z = \\begin{pmatrix} 1 & 0 \\\\ 0 & -1 \\end{pmatrix},$$ \n",
    "\n",
    "rotate the qubit state by $\\pi$ radians around the $x$, $y$, and $z$ axes of the Bloch sphere. Together with the identity matrix $\\mathbb{I}$, the Pauli matrices form a complete orthonormal basis for the space of single-qubit unitary matrices. The Pauli-$X$ gate is the quantum equivalent to the classical **NOT** gate as it flips the basis states \n",
    "\n",
    "$$X|0\\rangle=|1\\rangle , \\; X|1\\rangle=|0\\rangle.$$\n",
    "\n",
    "<div align=\"center\">\n",
    "    <figure>\n",
    "        <img style=\"vertical-align:middle\" src=\"images/zero.png\" width=\"350\"/>\n",
    "        <img style=\"vertical-align:middle\" src=\"images/arrow.png\" width=\"100\"/>\n",
    "        <img style=\"vertical-align:middle\" src=\"images/one.png\" width=\"350\"/>\n",
    "    </figure>\n",
    "</div>\n",
    "\n",
    "<div align=\"center\">\n",
    "    <figure>\n",
    "        <img style=\"vertical-align:middle\" src=\"images/one.png\" width=\"350\"/>\n",
    "        <img style=\"vertical-align:middle\" src=\"images/arrow.png\" width=\"100\"/>\n",
    "        <img style=\"vertical-align:middle\" src=\"images/zero.png\" width=\"350\"/>\n",
    "    </figure>\n",
    "</div>\n",
    "\n",
    "The **Hadamard gate** $H=\\frac{1}{\\sqrt{2}}\\begin{pmatrix}1 & 1 \\\\ 1 & -1\\end{pmatrix}$ evolves the computational basis states to an equal superposition:\n",
    "\n",
    "$$H|0\\rangle = \\frac{|0\\rangle + |1\\rangle}{\\sqrt{2}} = |+x\\rangle, \\; H|1\\rangle = \\frac{|0\\rangle - |1\\rangle}{\\sqrt{2}} = |-x\\rangle.$$ \n",
    "\n",
    "In other words, it rotates the $|0\\rangle$ state to the $|+x\\rangle$ state and the $|1\\rangle$ state to the $|-x\\rangle$ state, as shown on the two Bloch spheres below:\n",
    "\n",
    "<div align=\"center\">\n",
    "    <figure>\n",
    "        <img style=\"vertical-align:middle\" src=\"images/zero.png\" width=\"350\"/>\n",
    "        <img style=\"vertical-align:middle\" src=\"images/arrow.png\" width=\"100\"/>\n",
    "        <img style=\"vertical-align:middle\" src=\"images/plus_x.png\" width=\"350\"/>\n",
    "    </figure>\n",
    "</div>\n",
    "\n",
    "<div align=\"center\">\n",
    "    <figure>\n",
    "        <img style=\"vertical-align:middle\" src=\"images/one.png\" width=\"350\"/>\n",
    "        <img style=\"vertical-align:middle\" src=\"images/arrow.png\" width=\"100\"/>\n",
    "        <img style=\"vertical-align:middle\" src=\"images/neg_x.png\" width=\"350\"/>\n",
    "    </figure>\n",
    "</div>\n",
    "\n",
    "\n",
    "Instead of rotating single qubits by fixed angles, we often deal with **parametrized rotation gates**, for example the gates\n",
    "\n",
    "$$\n",
    "R_x(\\theta) = e^{-i\\frac{\\theta}{2}X} = \\begin{pmatrix} \\cos\\left(\\frac{\\theta}{2}\\right) & -i \\sin\\left(\\frac{\\theta}{2}\\right) \\\\ -i \\sin\\left(\\frac{\\theta}{2}\\right) & \\cos\\left(\\frac{\\theta}{2}\\right) \\end{pmatrix}, \\;\n",
    "R_y(\\theta) = e^{-i\\frac{\\theta}{2}Y} = \\begin{pmatrix} \\cos\\left(\\frac{\\theta}{2}\\right) & -\\sin\\left(\\frac{\\theta}{2}\\right) \\\\ \\sin\\left(\\frac{\\theta}{2}\\right) & \\cos\\left(\\frac{\\theta}{2}\\right) \\end{pmatrix}, \\;\n",
    "R_z(\\theta) = e^{-i\\frac{\\theta}{2}Z} = \\begin{pmatrix} e^{-i\\frac{\\theta}{2}} & 0 \\\\ 0 & e^{i\\frac{\\theta}{2}}  \\end{pmatrix},\n",
    "$$ \n",
    "\n",
    "which rotate the qubit around the $X$, $Y$, and $Z$ axis of the Bloch sphere by an angle passed as a free parameter. For example, below we see an $R_x$ rotation by the angle $\\frac{\\pi}{4}$ of the two computational basis states visualized on the Bloch spheres below:\n",
    "\n",
    "<div align=\"center\">\n",
    "    <figure>\n",
    "        <img style=\"vertical-align:middle\" src=\"images/zero.png\" width=\"350\"/>\n",
    "        <img style=\"vertical-align:middle\" src=\"images/arrow.png\" width=\"100\"/>\n",
    "        <img style=\"vertical-align:middle\" src=\"images/rx.png\" width=\"350\"/>\n",
    "    </figure>\n",
    "</div>\n",
    "\n",
    "<div align=\"center\">\n",
    "    <figure>\n",
    "        <img style=\"vertical-align:middle\" src=\"images/one.png\" width=\"350\"/>\n",
    "        <img style=\"vertical-align:middle\" src=\"images/arrow.png\" width=\"100\"/>\n",
    "        <img style=\"vertical-align:middle\" src=\"images/neg_rx.png\" width=\"350\"/>\n",
    "    </figure>\n",
    "</div>\n",
    "\n",
    "We can also generalize the $Z$ operating performing a phase flip by $\\pi$ with the general **phase shift gate**\n",
    "\n",
    "$$\n",
    "R_\\phi(\\phi) = e^{i\\frac{\\phi}{2}}R_z(\\phi) = \\begin{pmatrix} 1 & 0 \\\\ 0 & e^{i\\phi} \\end{pmatrix}.\n",
    "$$\n",
    "\n",
    "#### Controlled gates\n",
    "\n",
    "Controlled gates act on two or more qubits, where one more qubits act as a control for some operation on a single target qubit. For example, the **controlled NOT gate** (or CNOT or CX) acts on two qubits, and performs the NOT operation on the target qubit only when the control qubit is $|1\\rangle$, and otherwise leaves it unchanged. With \n",
    "\n",
    "$$\\text{CNOT}=\\begin{pmatrix}1&0&0&0\\\\ 0&1&0&0\\\\ 0&0&0&1\\\\ 0&0&1&0\\end{pmatrix}$$ we get $$\\text{CNOT}|00\\rangle=|00\\rangle, \\; \\text{CNOT}|01\\rangle=|01\\rangle, \\; \\text{CNOT}|10\\rangle=|11\\rangle, \\; \\text{CNOT}|11\\rangle=|10\\rangle.$$\n",
    "\n",
    "Generally, if $U$ is an arbitary single-qubit gate, the two-qubit controlled-$U$ gate operating such that the first qubit serves as the control and the second as the target qubit can be written as \n",
    "\n",
    "$$\\text{C}U = |0\\rangle \\langle0| \\otimes \\mathbb{I} + |1\\rangle \\langle1| \\otimes U =\\begin{pmatrix}1 & 0 & \\begin{matrix} 0 & 0 \\end{matrix}\\\\ 0 & 1 & \\begin{matrix} 0 & 0 \\end{matrix} \\\\ \\begin{matrix}0\\\\0\\end{matrix} & \\begin{matrix}0\\\\0\\end{matrix} & U \\end{pmatrix},$$\n",
    "\n",
    "with the outer products $$|0\\rangle \\langle0| = \\begin{pmatrix}1\\\\0\\end{pmatrix}\\begin{pmatrix}1&0\\end{pmatrix} = \\begin{pmatrix}1&0\\\\0&0\\end{pmatrix}, \\; |1\\rangle \\langle1| = \\begin{pmatrix}0\\\\1\\end{pmatrix}\\begin{pmatrix}0&1\\end{pmatrix} = \\begin{pmatrix}0&0\\\\0&1\\end{pmatrix}$$\n",
    "\n",
    "and the Kronecker product $\\otimes$ you have met before."
   ]
  },
  {
   "cell_type": "markdown",
   "id": "3e4a21dc-eb6c-4cf6-ac43-1e0900c11e1b",
   "metadata": {
    "tags": []
   },
   "source": [
    "## Quantum solution\n",
    "\n",
    "### Mapping the problem of systems of linear systems onto quantum computers\n",
    "\n",
    "Quantum computers operate on quantum states of a qubit register. A quantum state of $n$ qubits can be mapped on a normalized $2^n$-dimensional vector of complex numbers and vice versa. For example, we can map the (normalized) $8$-dimensional vector of variables $[x_0,x_1, x_2, x_3,x_4,x_5,x_6,x_7]$ onto the quantum state of three qubits\n",
    "\n",
    "$$|x\\rangle = x_0 |000\\rangle + x_1 |001\\rangle + x_2 |010\\rangle + x_3 |011\\rangle + x_4 |100\\rangle + x_5 |101\\rangle + x_6 |110\\rangle + x_7 |111\\rangle$$\n",
    "\n",
    "<div class=\"alert alert-block alert-success\"> \n",
    "    Remember that you can review some fundamentals about qubits and gates in the <a href=\"#Brief-(re-)introduction-to-quantum-computing-fundamentals\">previous section</a> of this notebook, including their standard vector and matrix representations, as well as information about the $|x\\rangle$ notation we use here.\n",
    "</div>\n",
    "\n",
    "For the matrix $A$, we know that operations on quantum states of qubits are represented by unitary operators (see above). If the matrix $A$ is unitary, then it can be directly implemented as a quantum circuit - a series of quantum gates applied to the qubits. We can relax this constraint and require that $A$ is a $2^n \\times 2^n$ matrix, which can be expressed as a linear combination of $L$ unitary matrices $A_l$ of the form $$A = \\sum\\limits_{l = 1}^{L}c_l A_l,$$ where $c_l$ are complex numbers.\n",
    "\n",
    "Taking our example problem defined above, \n",
    "$$\n",
    "\\begin{pmatrix}\n",
    "1   & 0   & 0 & 0 & 0.4 & 0   & 0 & 0 \\\\\n",
    "0   & 1   & 0 & 0 & 0   & 0.4 & 0 & 0 \\\\\n",
    "0   & 0   & 1 & 0 & 0   & 0   & 0 & 0 \\\\\n",
    "0   & 0   & 0 & 1 & 0   & 0   & 0 & 0 \\\\\n",
    "0.4 & 0   & 0 & 0 & 1   & 0   & 0 & 0 \\\\ \n",
    "0   & 0.4 & 0 & 0 & 0   & 1   & 0 & 0 \\\\\n",
    "0   & 0   & 0 & 0 & 0   & 0   & 1 & 0 \\\\\n",
    "0   & 0   & 0 & 0 & 0   & 0   & 0 & 1\n",
    "\\end{pmatrix}\n",
    "\\begin{pmatrix}\n",
    "x_1 \\\\\n",
    "x_2 \\\\\n",
    "x_3 \\\\\n",
    "x_4 \\\\\n",
    "x_5 \\\\ \n",
    "x_6 \\\\\n",
    "x_7 \\\\\n",
    "x_8   \n",
    "\\end{pmatrix} = \\frac{1}{2\\sqrt{2}}\n",
    "\\begin{pmatrix}\n",
    "1 \\\\\n",
    "1 \\\\\n",
    "1 \\\\\n",
    "1 \\\\\n",
    "1 \\\\ \n",
    "1 \\\\\n",
    "1 \\\\\n",
    "1   \n",
    "\\end{pmatrix}\n",
    "$$ \n",
    "we can write the $8 \\times 8$ matrix as a linear combination $$A = \\mathbb{I} \\otimes \\mathbb{I} \\otimes \\mathbb{I} + 0.2 X\\otimes Z \\otimes \\mathbb{I} + 0.2 X\\otimes \\mathbb{I} \\otimes \\mathbb{I}$$ of Pauli and identity matrices, and $\\otimes$ denoting the Kronecker product you have met before.\n"
   ]
  },
  {
   "cell_type": "code",
   "execution_count": null,
   "id": "1e7e725c-34f6-4f0f-a42b-b5acaff9085f",
   "metadata": {
    "tags": []
   },
   "outputs": [],
   "source": [
    "def kronecker_product(matrices):\n",
    "    if len(matrices) == 1:\n",
    "        return matrices[0]\n",
    "    else:\n",
    "        return np.kron(matrices[0], kronecker_product(matrices[1:]))\n",
    "\n",
    "Id = np.matrix([[1.0, 0.0], [0.0, 1.0]])    # 2x2 Identity matrix\n",
    "X = np.matrix([[0.0, 1.0], [1.0, 0.0]])     # Pauli X matrix\n",
    "Y = np.matrix([[0.0, -1.0j], [1.0j, 0.0]])  # Pauli Y matrix\n",
    "Z = np.matrix([[1.0, 0.0], [0.0, -1.0]])    # Pauli Z matrix\n",
    "\n",
    "c_l = np.array([1.0, 0.2, 0.2]) # coefficients of the linear combination of A\n",
    "\n",
    "A = c_l[0] * kronecker_product([Id, Id, Id]) + c_l[1] * kronecker_product([X, Z, Id]) + c_l[2] * kronecker_product([X, Id, Id])\n",
    "print(A)"
   ]
  },
  {
   "cell_type": "markdown",
   "id": "d9d9d297-ed24-44cb-8027-464443551563",
   "metadata": {},
   "source": [
    "Also, we can map the vector $\\bf b$ onto the quantum state $|b\\rangle = H|0\\rangle_{1} \\otimes H|0\\rangle_{2} \\otimes H|0\\rangle_{3}$."
   ]
  },
  {
   "cell_type": "code",
   "execution_count": null,
   "id": "4bf23890-fe02-488c-9e45-17ec6d5cec2a",
   "metadata": {
    "tags": []
   },
   "outputs": [],
   "source": [
    "H = 1./np.sqrt(2)*np.matrix([[1.0, 1.0], [1.0, -1.0]]) # Hadamard matrix\n",
    "ket_0 = np.array([1., 0.]) # |0>\n",
    "\n",
    "b = kronecker_product([np.dot(H, ket_0), np.dot(H, ket_0), np.dot(H, ket_0)])\n",
    "print(b)"
   ]
  },
  {
   "cell_type": "markdown",
   "id": "d216f7d8-999a-4478-85eb-623bffd05053",
   "metadata": {},
   "source": [
    "The problem that we aim to solve on a quantum computer is that of preparing a quantum state $|x\\rangle$, such that $A|x\\rangle$ is proportional to $|b\\rangle$.\n",
    " "
   ]
  },
  {
   "cell_type": "markdown",
   "id": "bffcb3d8-4f83-4d62-b6ba-f8908809f1f2",
   "metadata": {},
   "source": [
    "### Solving linear systems with quantum computers\n",
    "\n",
    "The possibility of solving linear systems on quantum computers has received considerable attention through the proposal of [Harrow-Hassidim-Lloyd](https://arxiv.org/abs/0811.3171) (HHL) originally in 2008, which is one of the main fundamental algorithms expected to provide an exponential speedup  over their classical counterparts (see https://en.wikipedia.org/wiki/HHL_algorithm). While the HLL quantum algorithm holds promise for the future, when large-scale fault-tolerant quantum computers exist, the timescale for such computers to become available remains an open question.\n",
    "\n",
    "An interesting alternative strategy to solve systems of linear equations on currenlty available noisy itermediate-scale (NISQ) quantum computers is to employ a **variational** hybrid quantum-classical algorithm. These algorithms work by using the quantum computer for the part of the calculation that is hardest for the classical computer, while minimizing the total number of quantum operations as compared to doing everything on the quantum device.\n",
    "\n",
    "### The Variational Quantum Linear Solver\n",
    "\n",
    "The [Variational Quantum Linear Solver](https://arxiv.org/abs/1909.05820) (VQLS) takes two inputs\n",
    "\n",
    "* a quantum gate sequence $U$ that prepares the quantum state $|b\\rangle = U|0\\rangle$ proportional to the vector $\\bf b$\n",
    "* a decomposition of the matrix $A$ into a linear combination $A = \\sum_{l=1}^{L} c_l A_l$ of $L$ unitaries $A_l$ with complex coefficiencts $c_l$\n",
    "\n",
    "to prepare a state $A|x\\rangle \\propto |b\\rangle$. \n",
    "\n",
    "To solve the problem, VQLS employs an initial solution for the gate sequence $V({\\bf \\alpha})$ that prepares a potential solution $|x({\\bf \\alpha})\\rangle = V({\\bf \\alpha})|0\\rangle$. The parameters $\\bf \\alpha$ are classical inputs to a quantum computer which estimates a cost function $C({\\bf \\alpha})$ which quantifies the closeness of the quantum states $A|x(\\alpha)\\rangle$ and $|b\\rangle$. The value of $C({\\bf \\alpha})$ is returned to a **classical** computer which iteratively adjusts $\\bf \\alpha$ in a classical optimization to minimize the cost. This continues until a termination condition is reached for $\\alpha = \\alpha_{\\text{opt}}$. This interplay between classical and quantum operations is what makes the algorithm \"hybrid\". Finally, the output parameters $\\alpha_{\\text{opt}}$ can be used to prepare the solution state $|x(\\alpha_{\\text{opt}})\\rangle = V(\\alpha_{\\text{opt}})|0\\rangle$. \n",
    "\n",
    "<div align=\"center\">\n",
    "    <img src=\"images/vqls_flow.png\" width=\"1000\"/>\n",
    "    <figcaption><a href=\"https://arxiv.org/abs/1909.05820\">[arXiv:1909.05820]</a></figcaption>\n",
    "</div>\n",
    "\n",
    "#### Cost function\n",
    "\n",
    "Several cost functions are discussed in the [original proposal](https://arxiv.org/abs/1909.05820) of VQLS. Here, we use a version favored by the authors for its advantages in trainability, that has been implemented in the [PennyLane VQLS tutorial](https://pennylane.ai/qml/demos/tutorial_vqls/#second-method):\n",
    "\n",
    "$$\n",
    "C_L = \\frac{1}{2} - \\frac{1}{2n} \\frac{\\sum_{j=0}^{n-1}\\sum_{l,l^\\prime}c_lc_{l^\\prime}^\\ast \\mu_{l,l^\\prime,j}}{\\sum_{l,l^\\prime}c_lc_{l^\\prime}^\\ast \\mu_{l,l^\\prime,-1}}\n",
    "$$\n",
    "\n",
    "with \n",
    "\n",
    "$$\n",
    "\\mu_{l,l^\\prime,j} = \\langle 0 | V^\\dagger A_{l^\\prime}^\\dagger U Z_j U^\\dagger A_l V | 0 \\rangle\n",
    "$$\n",
    "\n",
    "and the convention $Z_{-1} = 1\\!\\!1$ if $j = -1$. These $\\mu$ represent a **local** cost function on each qubit. The $\\langle ... \\rangle$ syntax means that we will compute an **inner product**, so that $\\langle a | O | b \\rangle = {\\bf a}^\\dagger \\cdot O \\cdot {\\bf b} \\in \\mathbb{C}^0$.\n",
    "\n",
    "The complex coefficients $\\mu_{l,l^\\prime,j}$ can be experimentally measured with a [Hadamard test](https://en.wikipedia.org/wiki/Hadamard_test). A Hadamard test is a method in quantum computation to obtain the real part $\\operatorname{Re}(\\langle\\psi |O| \\psi\\rangle)$ or the imaginary part $\\operatorname{Im}(\\langle\\psi |O| \\psi\\rangle)$ of an inner product  (where $|\\psi\\rangle$ is a multi-qubit quantum state and $O$ a unitary operation) by measuring an expectation value on only one additional so-called **ancilla** (helper) qubit. To do so, we just have to add two Hadarmard gates to the ancilla qubit and create a controlled version $\\text{C}O$ from our unitary $O$ with the ancilla being the control qubit.\n",
    "\n",
    "<div align=\"center\">\n",
    "    <img src=\"images/hadamard_test_re.png\" width=\"350\"/>\n",
    "    <img src=\"images/hadamard_test_im.png\" width=\"400\"/>\n",
    "    <figcaption>Hadamard test circuits to obtain $\\operatorname{Re}(\\langle\\psi |O| \\psi\\rangle)$ (left) and $\\operatorname{Im}(\\langle\\psi |O| \\psi\\rangle)$ (where $|\\psi\\rangle$ (right). </figcaption>\n",
    "</div>\n",
    "</br> \n",
    "\n",
    "Note that to measure the imaginary part, we have to rotate the ancilla qubit by $-\\frac{\\pi}{2}$ around the $z$-axis of the Bloch sphere which we can do with the phase shift operator $R_\\phi(\\phi)$ introduced in the previous section, which is for $\\phi=-\\frac{\\pi}{2}$ equivalent to $S^\\dagger = \\begin{pmatrix}1 & 0 \\\\ 0 & -i\\end{pmatrix}.$\n",
    "\n",
    "Measuring the coefficients $\\mu_{l,l^\\prime,j}$ with Hadamard tests determines the actual circuits we need to implement next.\n",
    "\n",
    "### Quantum circuit implementation\n",
    "\n",
    "Our example problem introduced above is a linear system described by an $8 \\times 8$ matrix and an $8$-element vector, which we can map onto a $3$-qubit quantum state. To measure the coefficients with a Hadarmard test, we need an additional ancilla qubit, such that we end up with a $4$-qubit quantum circuit implementation. We've seen above that we can decompose the matrix $A$ into $3$ unitaries $A_l$.\n",
    "\n",
    "To evaluate the cost function $C_L$ *once*, we need to execute several instances of quantum circuits: For each of the $9$ pairs $l,l^\\prime$ we need to perform the $8$ Hadamard tests shown below.\n",
    "\n",
    "<div align=\"center\">\n",
    "\n",
    "<figure>\n",
    "<img src=\"images/hadamard_test_j0_re.png\" width=\"350\"/>\n",
    "<img src=\"images/hadamard_test_j0_im.png\" width=\"350\"/>\n",
    "<figcaption>\n",
    "Quantum circuits to measure the real (left) and imaginary (right) part of $\\mu_{l,l^\\prime,(j=0)}$  \n",
    "</figcaption>\n",
    "</figure>\n",
    "\n",
    "<figure>\n",
    "<img src=\"images/hadamard_test_j1_re.png\" width=\"350\"/>\n",
    "<img src=\"images/hadamard_test_j1_im.png\" width=\"350\"/>\n",
    "<figcaption>\n",
    "Quantum circuits to measure the real (left) and imaginary (right) part of $\\mu_{l,l^\\prime,(j=1)}$  \n",
    "</figcaption>\n",
    "</figure>\n",
    "<figure>\n",
    "<img src=\"images/hadamard_test_j2_re.png\" width=\"350\"/>\n",
    "<img src=\"images/hadamard_test_j2_im.png\" width=\"350\"/>\n",
    "<figcaption>\n",
    "Quantum circuits to measure the real (left) and imaginary (right) part of $\\mu_{l,l^\\prime,(j=2)}$  \n",
    "</figcaption>\n",
    "</figure>\n",
    "<figure>\n",
    "<img src=\"images/hadamard_test_j-1_re.png\" width=\"300\"/>\n",
    "<img src=\"images/hadamard_test_j-1_im.png\" width=\"300\"/>\n",
    "<figcaption>\n",
    "Quantum circuits to measure the real (left) and imaginary (right) part of $\\mu_{l,l^\\prime,(j=-1)}$  \n",
    "</figcaption>\n",
    "</figure>\n",
    "</div>\n"
   ]
  },
  {
   "cell_type": "markdown",
   "id": "5894c1e1-98e0-4eb6-a00a-3e2d83c80e09",
   "metadata": {},
   "source": [
    "### Let's solve the example problem with PennyLane\n",
    "\n",
    "<div class=\"alert alert-block alert-success\"> \n",
    "    <b>Reminder:</b> <a href=\"https://pennylane.ai/\">PennyLane</a> is an open-source software framework for variational quantum computing and quantum differentiable programming that allows you to build and ‘train’ quantum algorithms, like you would for a neural network. PennyLane also provides plenty of learning resources and demos like the <a href=\"https://pennylane.ai/qml/demos/tutorial_vqls\">PennyLane VQLS tutorial</a> we follow in this workshop.\n",
    "</div>\n",
    "\n"
   ]
  },
  {
   "cell_type": "code",
   "execution_count": null,
   "id": "b96f2a40-160d-4088-8024-79f2f0460f45",
   "metadata": {
    "tags": []
   },
   "outputs": [],
   "source": [
    "# Pennylane\n",
    "import pennylane as qml\n",
    "\n",
    "# Plotting\n",
    "import matplotlib.pyplot as plt\n",
    "\n",
    "# Some variables specific to the linear system we want to solve\n",
    "n_qubits = 3  # Number of system qubits\n",
    "tot_qubits = n_qubits + 1  # Addition of an ancillary qubit\n",
    "ancilla_idx = n_qubits  # Index of the ancillary qubit (last position)\n",
    "\n",
    "# Hyperparameters for training of the variational circuit\n",
    "steps = 30  # Number of optimization steps\n",
    "step_size = 0.8  # Learning rate\n",
    "q_delta = 0.001  # Initial spread of random quantum weights\n",
    "rng_seed = 0  # Seed for random number generator"
   ]
  },
  {
   "cell_type": "markdown",
   "id": "6aef18c1-793b-4d5e-a0b6-22ce703f5293",
   "metadata": {},
   "source": [
    "<div class=\"alert alert-block alert-info\">\n",
    "    <b>Your task:</b> Implement the subroutine for $U_b$\n",
    "</div>"
   ]
  },
  {
   "cell_type": "code",
   "execution_count": null,
   "id": "34dcd24b-cf5f-4c6b-a419-7e4ec08713cd",
   "metadata": {
    "tags": []
   },
   "outputs": [],
   "source": [
    "def U_b():\n",
    "    \"\"\"Unitary matrix rotating the ground state to the problem vector |b> = U_b |0>.\"\"\"\n",
    "    for idx in range(n_qubits):\n",
    "        qml.Hadamard(wires=idx)"
   ]
  },
  {
   "cell_type": "markdown",
   "id": "592dc1de-3a54-4ffb-b52e-b470a442766d",
   "metadata": {},
   "source": [
    "<div class=\"alert alert-block alert-success\"> \n",
    "    <b>Hint:</b> Check the PennyLane documentation of supported <a href=\"https://docs.pennylane.ai/en/stable/introduction/operations.html\">Quantum Operators</a> for an overview of the available gates you may need to complete your tasks.\n",
    "</div>"
   ]
  },
  {
   "cell_type": "markdown",
   "id": "eb6357b3-ecb8-4710-ae59-f306771be3cc",
   "metadata": {},
   "source": [
    "Let's recall for our example problem $$A = \\sum\\limits_{l = 1}^{L}c_l A_l = \\mathbb{I} \\otimes \\mathbb{I} \\otimes \\mathbb{I} + 0.2 X\\otimes Z \\otimes \\mathbb{I} + 0.2 X\\otimes \\mathbb{I} \\otimes \\mathbb{I}$$ with $$c_l = [1.0, 0.2, 0.2]$$ and the unitaries \n",
    "$$\n",
    "\\begin{align}\n",
    "A_0 &= \\mathbb{I} \\otimes \\mathbb{I} \\otimes \\mathbb{I} \\\\ \n",
    "A_1 &= X\\otimes Z \\otimes \\mathbb{I} \\\\ \n",
    "A_2 &= X\\otimes \\mathbb{I} \\otimes \\mathbb{I}\n",
    "\\end{align}\n",
    "$$\n",
    "\n",
    "for which we need to create [controlled versions](#Controlled-gates). Remember $\\otimes$ denotes the Kronecker product, giving for example \n",
    "\n",
    "$$\n",
    "X\\otimes Z = \\begin{pmatrix} 0 & 1 \\\\ 1 & 0 \\end{pmatrix} \\otimes \\begin{pmatrix} 1 & 0 \\\\ 0 & -1 \\end{pmatrix} = \\begin{pmatrix} 0&0&1&0\\\\ 0&0&0&-1\\\\ 1&0&0&0\\\\ 0&-1&0&0 \\end{pmatrix}.\n",
    "$$\n",
    "\n",
    "<div class=\"alert alert-block alert-info\">\n",
    "    <b>Your task:</b> Implement the subroutine for the <i>controlled</i> versions of the unitary components $A_l$ of $A$\n",
    "</div>"
   ]
  },
  {
   "cell_type": "code",
   "execution_count": null,
   "id": "06d94e5b-528c-4e27-ac24-b661817ecd6d",
   "metadata": {
    "tags": []
   },
   "outputs": [],
   "source": [
    "c_l = np.array([1.0, 0.2, 0.2])\n",
    "\n",
    "def ctrl_A_l(idx):\n",
    "    \"\"\"Controlled versions of the unitary components A_l of the problem matrix A.\"\"\"\n",
    "    if idx == 0: # controlled-A_0\n",
    "        qml.ctrl(qml.I, control=(ancilla_idx))(wires=0)\n",
    "        qml.ctrl(qml.I, control=(ancilla_idx))(wires=1)\n",
    "        qml.ctrl(qml.I, control=(ancilla_idx))(wires=2)\n",
    "\n",
    "    elif idx == 1: # controlled-A_1\n",
    "        qml.ctrl(qml.X, control=(ancilla_idx))(wires=0)\n",
    "        qml.ctrl(qml.Z, control=(ancilla_idx))(wires=1)\n",
    "        qml.ctrl(qml.I, control=(ancilla_idx))(wires=2)\n",
    "\n",
    "    elif idx == 2: # controlled-A_2\n",
    "        qml.ctrl(qml.X, control=(ancilla_idx))(wires=0)\n",
    "        qml.ctrl(qml.I, control=(ancilla_idx))(wires=1)\n",
    "        qml.ctrl(qml.I, control=(ancilla_idx))(wires=2)"
   ]
  },
  {
   "cell_type": "markdown",
   "id": "8a45ca74-2eee-4dd2-8c1a-cb4fc363efc3",
   "metadata": {},
   "source": [
    "<div class=\"alert alert-block alert-success\"> \n",
    "    <b>Hint:</b> Remember you have seen how to build a controlled operation from a unitary in the <a href=\"#Controlled-gates\">previous section</a>. To make our lives easier, PennyLane comes with a built-in <a href=\"https://docs.pennylane.ai/en/stable/introduction/operations.html#operator-functions\">operator function</a> doing exactly that. \n",
    "</div>"
   ]
  },
  {
   "cell_type": "markdown",
   "id": "85d11f00-b729-4761-94c1-01ddc191092e",
   "metadata": {},
   "source": [
    "<div class=\"alert alert-block alert-info\">\n",
    "    <b>Your task:</b> Implement the variational subroutine that should generate the candidate solution state $|x\\rangle = V(\\alpha)|0\\rangle$.\n",
    "</div>\n",
    "\n",
    "The first layer of this variational subroutine is a product of Hadamard gates preparing a balanced superposition of all basis states. After that, we apply just a single layer of qubit rotations $R_y(\\alpha_0) \\otimes R_y(\\alpha_1) \\otimes R_y(\\alpha_2)$. For solving more complex problems, we suggest using more expressive circuits as, e.g., the PennyLane [`StronglyEntanglingLayers()`](https://docs.pennylane.ai/en/stable/code/api/pennylane.StronglyEntanglingLayers.html) template. With *more expressive* we mean that the circuit can create more possible quantum states and such is capable of exploring a larger portion of\n",
    "the entire state space."
   ]
  },
  {
   "cell_type": "code",
   "execution_count": null,
   "id": "3a361099-722b-4c8c-b910-3c13320576ad",
   "metadata": {
    "tags": []
   },
   "outputs": [],
   "source": [
    "def V(alphas):\n",
    "    \"\"\"Variational circuit mapping the ground state |0> to the ansatz state |x(alphas)>.\"\"\"\n",
    "    # We first prepare an equal superposition of all the states of the computational basis.\n",
    "    for idx in range(n_qubits):\n",
    "        qml.Hadamard(wires=idx)\n",
    "\n",
    "    # For a minimal variational circuit we just apply a layer of single-qubit Ry rotations.\n",
    "    for idx, element in enumerate(alphas):\n",
    "        qml.RY(element, wires=idx)"
   ]
  },
  {
   "cell_type": "markdown",
   "id": "897f62cd-db7f-44d7-a4e3-d0d9dd1c0196",
   "metadata": {},
   "source": [
    "<div class=\"alert alert-block alert-info\">\n",
    "    <b>Review</b> how your subroutines are used in the Hadamard test circuit implementation and compare it with the circuit diagrams above.\n",
    "</div>"
   ]
  },
  {
   "cell_type": "code",
   "execution_count": null,
   "id": "fdb3b2e2-0278-48b1-8403-b0322860fea6",
   "metadata": {
    "tags": []
   },
   "outputs": [],
   "source": [
    "device = qml.device(\"lightning.qubit\", wires=tot_qubits)\n",
    "\n",
    "\n",
    "@qml.qnode(device, interface=\"autograd\")\n",
    "def local_hadamard_test(alphas, l=None, lprime=None, j=None, part=None):\n",
    "    \"\"\"Describe parameters here\"\"\"\n",
    "\n",
    "    # First Hadamard gate applied to the ancillary qubit.\n",
    "    qml.Hadamard(wires=ancilla_idx)\n",
    "\n",
    "    # For estimating the imaginary part of the coefficient \"mu\", we must add a \"-i\"\n",
    "    # phase gate.\n",
    "    if part == \"Im\":\n",
    "        qml.PhaseShift(-np.pi / 2, wires=ancilla_idx)\n",
    "    qml.Barrier(wires=range(tot_qubits), only_visual=True)\n",
    "\n",
    "    # Variational circuit generating a guess for the solution vector |x>\n",
    "    V(alphas)\n",
    "    qml.Barrier(wires=range(tot_qubits), only_visual=True)\n",
    "\n",
    "    # Controlled application of the unitary component A_l of the problem matrix A.\n",
    "    ctrl_A_l(l)\n",
    "    qml.Barrier(wires=range(tot_qubits), only_visual=True)\n",
    "\n",
    "    # Adjoint of the unitary U_b associated to the problem vector |b>.\n",
    "    # In this specific example Adjoint(U_b) = U_b.\n",
    "    U_b()\n",
    "    qml.Barrier(wires=range(tot_qubits), only_visual=True)\n",
    "\n",
    "    # Controlled Z operator at position j. If j = -1, apply the identity.\n",
    "    if j != -1:\n",
    "        qml.ctrl(qml.Z, control=(ancilla_idx))(wires=j)\n",
    "        qml.Barrier(wires=range(tot_qubits), only_visual=True)\n",
    "\n",
    "    # Unitary U_b associated to the problem vector |b>.\n",
    "    U_b()\n",
    "    qml.Barrier(wires=range(tot_qubits), only_visual=True)\n",
    "\n",
    "    # Controlled application of Adjoint(A_lprime).\n",
    "    # In this specific example Adjoint(A_lprime) = A_lprime.\n",
    "    ctrl_A_l(lprime)\n",
    "    qml.Barrier(wires=range(tot_qubits), only_visual=True)\n",
    "\n",
    "    # Second Hadamard gate applied to the ancillary qubit.\n",
    "    qml.Hadamard(wires=ancilla_idx)\n",
    "\n",
    "    # Expectation value of Z for the ancillary qubit.\n",
    "    return qml.expval(qml.PauliZ(wires=ancilla_idx))"
   ]
  },
  {
   "cell_type": "markdown",
   "id": "a8ed55f6-1ec6-46c8-ac08-d00a971855fe",
   "metadata": {},
   "source": [
    "<div class=\"alert alert-block alert-info\">\n",
    "    <b>Your task:</b> Draw the <code>local_hadamard_test</code> circuit for the different values of <code>l</code>, <code>l_prime</code>, <code>j</code>, and <code>part</code> to verify your circuits match the diagrams shown above.\n",
    "</div>"
   ]
  },
  {
   "cell_type": "code",
   "execution_count": null,
   "id": "4c074c13-e950-4b9b-91e9-ae0c9d225c91",
   "metadata": {
    "tags": []
   },
   "outputs": [],
   "source": [
    "print(qml.draw_mpl(local_hadamard_test)(alphas=[\"alpha_0\", \"alpha_1\", \"alpha_2\"], l=0, lprime=1, j=1, part=\"Im\"))"
   ]
  },
  {
   "cell_type": "markdown",
   "id": "e4ddea38-6bca-4587-90c8-018e481a8563",
   "metadata": {},
   "source": [
    "As described above, we can measure either the real or imaginary part of $\\mu_{l,l^\\prime,j}$ with a Hadamard test. Because we are interested in both, we need to run each Hadamard test twice, done by the following function:"
   ]
  },
  {
   "cell_type": "code",
   "execution_count": null,
   "id": "a1fc23d2-a657-4607-8f04-53fcd8aa720e",
   "metadata": {
    "tags": []
   },
   "outputs": [],
   "source": [
    "def mu(alphas, l=None, lprime=None, j=None):\n",
    "    \"\"\"Generates the coefficients to compute the \"local\" cost function C_L.\"\"\"\n",
    "\n",
    "    mu_real = local_hadamard_test(alphas, l=l, lprime=lprime, j=j, part=\"Re\")\n",
    "    mu_imag = local_hadamard_test(alphas, l=l, lprime=lprime, j=j, part=\"Im\")\n",
    "\n",
    "    return mu_real + 1.0j * mu_imag"
   ]
  },
  {
   "cell_type": "markdown",
   "id": "8cb0a92e-3633-4cce-9b33-e44d71b43826",
   "metadata": {},
   "source": [
    "Here, we finally implement the full cost function of our minimzation problem. We use the expression of $C_L$ in terms of the coefficients $\\mu_{l,l^\\prime,j}$ given above."
   ]
  },
  {
   "cell_type": "code",
   "execution_count": null,
   "id": "de135bbe-8c5f-42ee-bde1-b8934f7fec06",
   "metadata": {
    "tags": []
   },
   "outputs": [],
   "source": [
    "def cost(alphas):\n",
    "    \"\"\"Local version of the cost function. Tends to zero when A|x> is proportional to |b>.\"\"\"\n",
    "\n",
    "    # numerator\n",
    "    mu_sum = 0.0\n",
    "\n",
    "    for l in range(0, len(c_l)):\n",
    "        for lprime in range(0, len(c_l)):\n",
    "            for j in range(0, n_qubits):\n",
    "                mu_sum = mu_sum + c_l[l] * np.conj(c_l[lprime]) * mu(alphas, l, lprime, j)\n",
    "\n",
    "    mu_sum = abs(mu_sum)\n",
    "\n",
    "    # denominator\n",
    "    norm = 0.0\n",
    "\n",
    "    for l in range(0, len(c_l)):\n",
    "        for lprime in range(0, len(c_l)):\n",
    "            norm = norm + c_l[l] * np.conj(c_l[lprime]) * mu(alphas, l, lprime, -1)\n",
    "\n",
    "    norm = abs(norm)\n",
    "\n",
    "    # Cost function C_L\n",
    "    return 0.5 - 0.5 * mu_sum / (n_qubits * norm)"
   ]
  },
  {
   "cell_type": "markdown",
   "id": "435f5b68-10b0-4611-a1ff-dab7761d0826",
   "metadata": {},
   "source": [
    "#### Variational optimization"
   ]
  },
  {
   "cell_type": "markdown",
   "id": "3995fdb9-a0ef-480b-8994-438802bc067f",
   "metadata": {},
   "source": [
    "To minimize the cost function we use a gradient-descent optimizer."
   ]
  },
  {
   "cell_type": "code",
   "execution_count": null,
   "id": "0425d3f4-89fe-4010-8990-47a7b4afd3d1",
   "metadata": {
    "tags": []
   },
   "outputs": [],
   "source": [
    "opt = qml.GradientDescentOptimizer(stepsize=step_size)"
   ]
  },
  {
   "cell_type": "markdown",
   "id": "b585768b-6b98-403c-80f1-5061f2ff585f",
   "metadata": {},
   "source": [
    "Next, initialize the variational weights with random parameters."
   ]
  },
  {
   "cell_type": "code",
   "execution_count": null,
   "id": "a09d9bfd-b08c-4325-a5fe-66a472272a85",
   "metadata": {
    "tags": []
   },
   "outputs": [],
   "source": [
    "np.random.seed(rng_seed)\n",
    "alphas = q_delta * np.random.randn(n_qubits, requires_grad=True)\n",
    "print(f\"Initial parameters: {alphas}\")"
   ]
  },
  {
   "cell_type": "markdown",
   "id": "dc5b4888-9756-48fd-ae52-ee0176f9e523",
   "metadata": {},
   "source": [
    "<div class=\"alert alert-block alert-success\">\n",
    "    Now, we perform the optimization loop.<br>\n",
    "    <b>Note</b> that the next cell will take about 1:30 minutes to complete.\n",
    "</div>"
   ]
  },
  {
   "cell_type": "code",
   "execution_count": null,
   "id": "cf20773c-8f61-4fe4-a475-c37d6d6dbed2",
   "metadata": {
    "tags": []
   },
   "outputs": [],
   "source": [
    "%%time \n",
    "cost_history = []\n",
    "for it in range(steps):\n",
    "    alphas, cost_before_step = opt.step_and_cost(cost, alphas)\n",
    "    print(\"Step {:2d}/{:2d}:  Cost_L = {:9.7f}\".format(it+1, steps, cost_before_step))\n",
    "    cost_history.append(cost_before_step)\n",
    "\n",
    "print(f\"\\nOptimal alphas: {alphas}\")"
   ]
  },
  {
   "cell_type": "markdown",
   "id": "3cc430fd-937d-4fbd-b522-8c9ca397c6ca",
   "metadata": {},
   "source": [
    "We plot the cost function with respect to the optimization steps. We remark that this is not an abstract mathematical quantity since it also represents a bound for the error between the generated state and the exact solution of the problem."
   ]
  },
  {
   "cell_type": "code",
   "execution_count": null,
   "id": "f706a0de-2876-46da-910c-c88e97eb69c0",
   "metadata": {
    "tags": []
   },
   "outputs": [],
   "source": [
    "plt.plot(cost_history, \"g\")\n",
    "plt.ylabel(\"Cost function\")\n",
    "plt.xlabel(\"Optimization steps\")\n",
    "plt.show()"
   ]
  },
  {
   "cell_type": "markdown",
   "id": "e1025e5b-9a87-471d-bd28-656ef6569d15",
   "metadata": {},
   "source": [
    "<div class=\"alert alert-block alert-info\">\n",
    "    <b>Your task:</b> Repeat the training with different values of <code>steps</code> and <code>step_size</code>. How does the result change?\n",
    "</div>"
   ]
  },
  {
   "cell_type": "markdown",
   "id": "8c271dec-ba31-4c4a-93f3-2236e5a61962",
   "metadata": {},
   "source": [
    "#### Prepare the quantum solution state\n",
    "\n",
    "With the values of our variational parameters $\\alpha$ that we have optimized above, we can generate the quantum state $|x\\rangle$. As we mentioned previously, we can't read the amplitudes (remember you have read about amplitudes in the [previous section](#Qubits-and-qubit-states), already) of the state vector. Let's assume we are only interested in the probability $\\left|\\langle i | x \\rangle \\right|^2$ of each computational basis state $|i\\rangle$ given the solution state $|x\\rangle$.\n",
    "\n",
    "<div class=\"alert alert-block alert-success\"> \n",
    "    <b>Remember</b> how our solution vector ${\\bf x}$ is encoded onto the quantum state vector $|x\\rangle$ of our 3-qubit system:\n",
    "    $$\n",
    "    |x\\rangle = x_0 |000\\rangle + x_1 |001\\rangle + x_2 |010\\rangle + x_3 |011\\rangle + x_4 |100\\rangle + x_5 |101\\rangle + x_6 |110\\rangle + x_7 |111\\rangle\n",
    "    $$\n",
    "</br>    \n",
    "Hence, when we measure a bit-string probability of a particular basis state, for example $|000\\rangle$, we get the absolute squared of the component $x_0$ of vector ${\\bf x}$:\n",
    "    $$\n",
    "    \\left|\\langle 000 | x \\rangle \\right|^2 = \\left|x_0\\right|^2\n",
    "    $$\n",
    "</div>\n",
    "\n",
    "To measure the bit-string probabilities of **each** basis state, we prepare the solution state $|x(\\alpha_{\\text{opt}})\\rangle = V(\\alpha_{\\text{opt}})|0\\rangle$ using only the variational subroutine `V` we have already implemented and sample the probabilities for the computational basis states using the optimal parameters from our training.\n",
    "\n",
    "<div class=\"alert alert-block alert-info\">\n",
    "    <b>Your task:</b> Complete the implementation of the <code>prepare_and_sample</code> function.\n",
    "</div>"
   ]
  },
  {
   "cell_type": "code",
   "execution_count": null,
   "id": "cfdae1f7-d707-4418-9061-7faaea41e6a1",
   "metadata": {
    "tags": []
   },
   "outputs": [],
   "source": [
    "n_shots = 10 ** 6  # Number of quantum measurements\n",
    "dev_x = qml.device(\"lightning.qubit\", wires=n_qubits, shots=n_shots)\n",
    "\n",
    "@qml.qnode(dev_x, interface=\"autograd\")\n",
    "def prepare_and_sample(alphas):\n",
    "\n",
    "    # Variational circuit generating a guess for the solution vector |x>\n",
    "    V(alphas)\n",
    "\n",
    "    # Probability of each computational basis state.\n",
    "    return qml.probs()\n",
    "\n",
    "\n",
    "q_probs = prepare_and_sample(alphas)\n",
    "print(\"|<i|x>|^2 =\", q_probs)"
   ]
  },
  {
   "cell_type": "markdown",
   "id": "62d6966e-b075-4d7e-9881-e5331d73ddda",
   "metadata": {},
   "source": [
    "#### Compare with classical results\n",
    "\n",
    "Our example problem has a small size and we can solve it in a classically as shown before without problem. So let's do this once again via matrix inversion and compare the results with our quantum solution. In order to compare the result with the measurements we have performed on $|x\\rangle$ above, we have to normalize and square the solution vector $\\bf{x}$ obtained classically."
   ]
  },
  {
   "cell_type": "code",
   "execution_count": null,
   "id": "af5be266-4cf8-47b3-9708-b0ce387a5dd0",
   "metadata": {
    "tags": []
   },
   "outputs": [],
   "source": [
    "A_inv = np.linalg.inv(A)\n",
    "x = np.dot(A_inv, b.T)\n",
    "c_probs = (x / np.linalg.norm(x)) ** 2\n",
    "print(\"||x||^2 =\", c_probs)"
   ]
  },
  {
   "cell_type": "markdown",
   "id": "eb7790e7-abb3-4628-b1ba-0120c34292b9",
   "metadata": {},
   "source": [
    "Let's visualize the outcome. As you can see, the results of both solutions match well."
   ]
  },
  {
   "cell_type": "code",
   "execution_count": null,
   "id": "ea41976d-b567-48f3-8016-e6da06f9631a",
   "metadata": {
    "tags": []
   },
   "outputs": [],
   "source": [
    "x = np.arange(2**n_qubits)\n",
    "labels = [f\"$|x_{i}|^2$\" for i in x]\n",
    "width = 0.25\n",
    "\n",
    "fig, ax = plt.subplots(layout=\"constrained\")\n",
    "ax.bar(x, c_probs.flatten(), width, label=\"classical solution\")\n",
    "ax.bar(x + width, q_probs, width, label=\"quantum solution\")\n",
    "ax.set_xticks(x + width / 2., labels)\n",
    "ax.set_ylim(top=0.2)\n",
    "ax.legend(loc='upper left')\n",
    "plt.show()"
   ]
  },
  {
   "cell_type": "markdown",
   "id": "98eb06a3-4171-4f49-a18a-6ea0a225a25f",
   "metadata": {},
   "source": [
    "We see that there are many output bitstrings with reasonable likelihood of being measured. This is because the quantum computer, even in the ideal case, explores many (**not** necessarily all!) possible states as the circuit runs, and even with a fault-tolerant quantum computer there would be some likelihood of measuring the \"wrong\" or non-optimal solution. These algorithms are not guaranteed to find the global optimum if run once. \n",
    "\n",
    "<div class=\"alert alert-block alert-info\">\n",
    "    <b>Question:</b> How does the result change when we use a smaller number for <code>n_shots</code>?\n",
    "</div>\n",
    "\n",
    "<div class=\"alert alert-block alert-info\">\n",
    "    <b>Question:</b> What could be reasons for the differences we can observe?\n",
    "</div>"
   ]
  },
  {
   "cell_type": "markdown",
   "id": "b66bc915-22a5-4469-92b8-e43e195a2a0f",
   "metadata": {},
   "source": [
    "## Running in the cloud on Amazon Braket Hybrid Jobs\n",
    "\n",
    "We were able to solve the above example linear system with size $8\\times8$ locally in our notebook without interacting with Amazon Braket. This would not be possible if we wouldn't use a local quantum circuit simulator like PennyLane's [Lightning Qubit](https://docs.pennylane.ai/projects/lightning/en/v0.25.0/devices.html) device but [real quantum hardware or a managed simulator on Braket](https://amazon-braket-pennylane-plugin-python.readthedocs.io/en/latest/devices/braket_remote.html). But what is with the classical part of our algorithm? Do we want to continue running it interactively in this notebook if we are offloading quantum tasks to the cloud? And what if we want to scale up and test our algorithm with a larger linear system of equations which requires more classical compute capacity and results in longer overall execution time, as well? Finally, what if we want to make sure we can track and durably store different versions of our algorithm code and hyperparameter configurations to ensure reproduceablility for the experiments we run while we develop and benchmark our algorithm?\n",
    "\n",
    "Amazon Braket provides such functionality in the cloud with [Amazon Braket Hybrid Jobs](https://docs.aws.amazon.com/braket/latest/developerguide/braket-what-is-hybrid-job.html).\n",
    "\n",
    "<div align=\"center\">\n",
    "    <figure>\n",
    "        <img src=\"images/hybrid_jobs.png\" width=\"1000\"/>\n",
    "    </figure>\n",
    "</div>\n",
    "\n",
    "Amazon Braket Hybrid Jobs enables you to run hybrid quantum-classical algorithms requiring both classical AWS resources and quantum processing units conveniently in a high-performance cloud environment providing the following main benefits.\n",
    "\n",
    "**Performance:** Amazon Braket Hybrid Jobs provides better performance than running hybrid algorithms from your own environment. While your job is running, it has priority access to the selected target QPU. Tasks from your job run ahead of other tasks queued on the device. This results in shorter and more predictable runtimes for hybrid algorithms. Amazon Braket Hybrid Jobs also supports parametric compilation. You can submit a circuit using free parameters and Braket compiles the circuit once, without the need to recompile for subsequent parameter updates to the same circuit, resulting in even faster runtimes.\n",
    "\n",
    "**Convenience:** Amazon Braket Hybrid Jobs simplifies setting up and managing your compute environment and keeping it running while your hybrid algorithm runs. You just provide your algorithm script and select a quantum device (either a quantum processing unit or a simulator) on which to run. Amazon Braket waits for the target device to become available, spins up the classical resources, runs the workload in pre-built or self-defined container environments, returns the results to Amazon Simple Storage Service (Amazon S3), and releases the compute resources.\n",
    "\n",
    "**Metrics:** Amazon Braket Hybrid Jobs provides on-the-fly insights into running algorithms and delivers customizable algorithm metrics in near real-time to Amazon CloudWatch and the Amazon Braket console so you can track the progress of your algorithms.\n",
    "\n",
    "### Solving a larger system of linear equations using Hybrid Jobs\n",
    "\n",
    "Let's experience how this works in action. In the script [`vqls_pl.py`](vqls_pl.py) we have implemented VQLS for the $1024\\times1024$ linear system\n",
    "\n",
    "$$\n",
    "\\begin{align}\n",
    "A &= 1.0 \\mathbb{I}_{\\otimes 10} + 0.25 Z_2 \\otimes X_5 \\otimes X_9 + 0.25 * X_0 \\otimes Z_1 \\otimes X_4 \\otimes X_8 \\\\\n",
    "|b\\rangle &= H_0 \\otimes H_1 \\otimes H_2 \\otimes H_3 \\otimes H_6 \\otimes H_7 |0\\rangle\n",
    "\\end{align}\n",
    "$$\n",
    "\n",
    "Execute the cell below to create a hybrid job on Amazon Braket which executes the script with a certain hyperparameter configuation on an [ml.m5.large](https://aws.amazon.com/ec2/instance-types/m5/) instance running the classical subroutine as well as a PennyLane Lightning simulator [embedded](https://aws.amazon.com/blogs/quantum-computing/using-embedded-simulators-in-amazon-braket-hybrid-jobs/) in the job container to perform the circuit evaluations."
   ]
  },
  {
   "cell_type": "code",
   "execution_count": null,
   "id": "93eb1da7-a9e5-44a9-b1d8-aa323016c1f8",
   "metadata": {
    "tags": []
   },
   "outputs": [],
   "source": [
    "from braket.aws import AwsQuantumJob\n",
    "from braket.jobs.config import InstanceConfig\n",
    "\n",
    "job = AwsQuantumJob.create(\n",
    "    device=\"local:pennylane/lightning.qubit\",\n",
    "    source_module=\"vqls_pl.py\",\n",
    "    job_name=\"vqls-job\",\n",
    "    hyperparameters={\n",
    "        'n_shots': 1000,  # number of quantum measurements per circuit invocation\n",
    "        'n_steps': 100,   # number of interations for training\n",
    "        'step_size': 0.8, # learning rate of gradient-descend optimizer\n",
    "        'q_delta': 0.001, # spread of initial random value for variational parameters\n",
    "    },\n",
    "    instance_config=InstanceConfig(instanceType='ml.m5.large')\n",
    ")\n",
    "print(f\"{job.arn} {job.state()}\")"
   ]
  },
  {
   "cell_type": "markdown",
   "id": "17d9038d-51b1-4529-8412-97f6aaca3e31",
   "metadata": {},
   "source": [
    "<div class=\"alert alert-block alert-info\">\n",
    "    The job will take a couple of minutes to complete. While it is running you may <b>review</b> the code and verify that we have made only minimal modifications in order to read the hyperparameters we pass during job creation and to store the job results. Also, go to the <a href=\"https://us-east-1.console.aws.amazon.com/braket/home?region=us-east-1#/jobs\">Hybrid Jobs console</a> to <b>monitor your job</b>.\n",
    "</div>\n",
    "\n",
    "The job's state follows the lifecycle `CREATED`, `QUEUED`, `RUNNING`, `COMPLETED` and will take a few minutes to complete. You can query the job state to track its progress, programmatically."
   ]
  },
  {
   "cell_type": "code",
   "execution_count": null,
   "id": "74ebc9ae-8ca1-4a19-9bd0-232f7bbe44a2",
   "metadata": {
    "tags": []
   },
   "outputs": [],
   "source": [
    "print(f\"{job.arn} {job.state()}\")"
   ]
  },
  {
   "cell_type": "markdown",
   "id": "0640c53b-e6ee-4988-a30c-6125ad5f3201",
   "metadata": {},
   "source": [
    "While the job is still running, we can already retrieve the metrics we define with the `log_metric` statements in the code. \n",
    "\n",
    "<div class=\"alert alert-block alert-success\">\n",
    "    <b>Note</b> that you may have to execute the following cell more than once to receive the latest metrics.\n",
    "</div>"
   ]
  },
  {
   "cell_type": "code",
   "execution_count": null,
   "id": "e563874c-80f5-4063-8703-cbb235ee2a86",
   "metadata": {
    "tags": []
   },
   "outputs": [],
   "source": [
    "from braket.jobs.metrics_data.definitions import MetricType\n",
    "\n",
    "import pandas as pd\n",
    "import matplotlib.pyplot as plt\n",
    "\n",
    "df = pd.DataFrame(job.metrics(metric_type=MetricType.ITERATION_NUMBER))\n",
    "df.sort_values(by=[\"iteration_number\"], inplace=True)\n",
    "\n",
    "fig, ax1 = plt.subplots(1, 1)\n",
    "fig.set_figwidth(10)\n",
    "fig.suptitle(\"Job metrics\", size=16, y=0.99)\n",
    "\n",
    "ax1.axhline(y=0, color='black', linestyle='--')\n",
    "ax1.plot(\"iteration_number\", \"cost_function\", data=df)\n",
    "ax1.set_xlabel('iteration', fontsize=18)\n",
    "ax1.set_ylabel('cost', fontsize=18)\n",
    "fig.show()"
   ]
  },
  {
   "cell_type": "markdown",
   "id": "b032d6ef-6000-423d-adb1-25542bd880ae",
   "metadata": {},
   "source": [
    "After the job completed, we can retrieve the results. Note that we only print the non-zero probabilities."
   ]
  },
  {
   "cell_type": "code",
   "execution_count": null,
   "id": "c13c68eb-9829-4538-bc7c-c5508be30d9c",
   "metadata": {
    "tags": []
   },
   "outputs": [],
   "source": [
    "job_result = job.result()\n",
    "q_probs = np.array(job_result['q_probs'])\n",
    "\n",
    "x = np.arange(len(q_probs))\n",
    "labels = np.array([f\"|x_{i}|^2\" for i in x])\n",
    "width = 0.25\n",
    "\n",
    "labels = labels[np.nonzero(q_probs)]\n",
    "values = q_probs[np.nonzero(q_probs)]\n",
    "x = np.arange(len(values))\n",
    "\n",
    "fig, ax = plt.subplots(layout=\"constrained\")\n",
    "fig.set_size_inches(30, 10)\n",
    "ax.bar(x, values, width)\n",
    "ax.set_xticks(x, labels, rotation=60, fontsize=15)\n",
    "ax.set_ylim(top=0.03)\n",
    "ax.set_xlim(left=-width, right=len(values))\n",
    "ax.yaxis.set_tick_params(labelsize=20)\n",
    "plt.show()\n",
    "\n",
    "print(dict(map(lambda k,v : (k.item(),v.item()) ,labels, values)))"
   ]
  },
  {
   "cell_type": "markdown",
   "id": "281d031c-eb6d-4da0-8c3b-bbff5ea9164e",
   "metadata": {},
   "source": [
    "<div class=\"alert alert-block alert-info\">\n",
    "    <b>Task:</b> Run a couple of experiments with different hyperparameter configurations. How do the number of shots affect execution time and quality of the results? Try it out with <code>n_shots</code> equal to 100, 1000, and 10000.\n",
    "</div>\n",
    "\n",
    "<div class=\"alert alert-block alert-success\">\n",
    "    <b>Note</b> that you can run multiple jobs in parallel to speed up your experiments.\n",
    "</div>\n",
    "\n",
    "Let's now review some job metadata."
   ]
  },
  {
   "cell_type": "code",
   "execution_count": null,
   "id": "f77d3806-29f9-4b10-bc85-d11ac2139457",
   "metadata": {
    "tags": []
   },
   "outputs": [],
   "source": [
    "print(f\"Create: {job.metadata()['createdAt']}\")\n",
    "print(f\"Started: {job.metadata()['startedAt']}\")\n",
    "print(f\"Ended: {job.metadata()['endedAt']}\")\n",
    "print()\n",
    "print(f\"Braket tasks: {job.result()['braket_tasks']}\")\n",
    "print(f\"Circuit invocations: {job.result()['circuit_invocations']}\")\n",
    "print(f\"Runtime of the job instance: {job.metadata()['billableDuration']} milliseconds\")"
   ]
  },
  {
   "cell_type": "markdown",
   "id": "3279797abf3ac53c",
   "metadata": {},
   "source": [
    "<div class=\"alert alert-block alert-info\">\n",
    "    <b>Questions:</b> \n",
    "    <ul>\n",
    "        <li>How long did the job run?</li>\n",
    "        <li>How many quantum circuits did it process during execution?</li>\n",
    "        <li>Do you know why we don't see any <code>Braket tasks</code> associated to this job?</li>\n",
    "        <li>Finally, we don't we run this on a real quantum computer?</li>\n",
    "    </ul>\n",
    "</div>"
   ]
  },
  {
   "cell_type": "markdown",
   "id": "9d8975c1-0b73-4caf-a0a2-8f0413fc25ec",
   "metadata": {},
   "source": [
    "## Conclusion\n",
    "\n",
    "Congratulations for completing the workshop **QTC301 | Exploring hybrid quantum-classical computation with Amazon Braket**. In this notebook, you have learned how to code up the Variational Quantum Linear Solver algorithm with PennyLane and used it to solve an $8\\times8$ system of linear equations. Then, you took it to another level and learned how to run the entire hybrid quantum-classical algorithm in the cloud using Amazon Braket Hybrid Jobs to solve a $1024\\times1024$ system of linear equations.\n",
    "\n",
    "To continue learning about Amazon Braket we encourage you to check out the following resources:\n",
    "* [Amazon Braket Examples](https://github.com/amazon-braket/amazon-braket-examples): Our primary repository for code examples on GitHub with Jupyter notebooks covering introductory level code snippets, advanced service features and reference implementations of canonical routines and example algorithms.\n",
    "* [Amazon Braket Labs](https://github.com/amazon-braket/amazon-braket-labs): A GitHub repository highlighting community contributions and community-driven projects such as frameworks, examples, experimental components, and tools built on top of Braket.\n",
    "* [Amazon Braket Digital Course](https://explore.skillbuilder.aws/learn/learning_plan/view/1990/amazon-braket-knowledge-badge-readiness-path-amazon): Our self-service learning path helping you build the knowledge and technical skills to use Amazon Braket, including domain-specific content, knowledge checks, hands-on labs and a knowledge badge assessment delivered on demand on AWS Skill Builder.\n",
    "* [AWS Quantum Technologies Blog Channel](https://aws.amazon.com/blogs/quantum-computing/): Stay in the know with new features, service announcements and news from the community and our customers and partners.\n",
    "* [AWS Cloud Credit for Research](https://aws.amazon.com/government-education/research-and-technical-computing/cloud-credit-for-research): If you are a researcher interested to use the cloud for research workloads, apply here for credits to access technology that accelerates innovation.\n",
    "* [Quantum Embark](https://aws.amazon.com/blogs/quantum-computing/aws-announces-the-quantum-embark-program-to-help-customers-get-ready-for-quantum-computing/): If you are a customer seeking trustworthy information about the relevance of quantum technology to your most important use cases, to understand the current state-of-play, and make informed decisions about when is the right time to engage, check out our Quantum Embark Program.\n",
    "\n",
    "<div class=\"alert alert-block alert-success\">\n",
    "    <b>Remember</b> that we will have to terminate the workshop environments after this session. If you want to keep this notebook for your own reference, we recommend you create a zip archive to the QTC301 directory and download it on your laptop.\n",
    "</div>\n",
    "\n",
    "<div align=\"center\">\n",
    "<img src=\"images/thank_you.jpeg\" width=\"600\"/>\n",
    "</div>"
   ]
  }
 ],
 "metadata": {
  "kernelspec": {
   "display_name": "Python 3 (ipykernel)",
   "language": "python",
   "name": "python3"
  },
  "language_info": {
   "codemirror_mode": {
    "name": "ipython",
    "version": 3
   },
   "file_extension": ".py",
   "mimetype": "text/x-python",
   "name": "python",
   "nbconvert_exporter": "python",
   "pygments_lexer": "ipython3",
   "version": "3.10.15"
  }
 },
 "nbformat": 4,
 "nbformat_minor": 5
}
